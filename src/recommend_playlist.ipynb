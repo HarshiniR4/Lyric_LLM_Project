{
 "cells": [
  {
   "cell_type": "code",
   "execution_count": 1,
   "metadata": {},
   "outputs": [],
   "source": [
    "import pandas as pd\n",
    "import random\n",
    "# This is to supress the warning messages (if any) generated in our code\n",
    "import warnings\n",
    "warnings.filterwarnings('ignore')"
   ]
  },
  {
   "cell_type": "code",
   "execution_count": 4,
   "metadata": {},
   "outputs": [],
   "source": [
    "df_lyrics =pd.read_csv(\"lyric_emotion.csv\")"
   ]
  },
  {
   "cell_type": "code",
   "execution_count": 19,
   "metadata": {},
   "outputs": [],
   "source": [
    "# Function to find lines with similar emotions\n",
    "def find_quotes(df_lyrics, emotions, num_quotes=10):\n",
    "    matching_quotes = []\n",
    "\n",
    "    for index, row in df_lyrics.iterrows():\n",
    "        for user_emotion in emotions:\n",
    "            if type(user_emotion) == type(row['Emotion']):\n",
    "                if user_emotion.lower() in row['Emotion'].lower():\n",
    "                    matching_quotes.append((row['Lyric Line'], row['Song Name'], row['Emotion']))\n",
    "                    break\n",
    "\n",
    "    # Randomly select num_quotes number of quotes if more are found\n",
    "    random.shuffle(matching_quotes)\n",
    "    return matching_quotes[:num_quotes]"
   ]
  },
  {
   "cell_type": "code",
   "execution_count": 27,
   "metadata": {},
   "outputs": [
    {
     "name": "stdout",
     "output_type": "stream",
     "text": [
      "Emotions you feel :anger\n",
      "\n",
      "Lyrics from BTS songs matching your feelings:\n",
      "\n",
      "Lyric: Rather than saying any words,   \n",
      "From the song: stay, matching the emotion(anger)\n",
      "\n",
      "\n",
      "Lyric: Its pretty intense. \n",
      "From the song: fly-to-my-room, matching the emotion(anger)\n",
      "\n",
      "\n",
      "Lyric: would we have dragged it on like this? \n",
      "From the song: mic-drop-steve-aoki-remix-full-length-edition, matching the emotion(anger)\n",
      "\n",
      "\n",
      "Lyric: (3)  can mean (i) to chew or (ii) to speak ill of someone. \n",
      "From the song: boyz-with-fun, matching the emotion(anger)\n",
      "\n",
      "\n",
      "Lyric: A ragtag bunch of nobodies, you should get some manners        \n",
      "From the song: stay, matching the emotion(anger)\n",
      "\n",
      "\n",
      "Lyric:       but then others come and put a pearl necklace on me, ptui!Reference: Casting pearls before swine. RM doesnt know what he is and then others come and put a pearl necklace on him (who could be a pig) and treat him as someone pearl-worthy, making him uncomfortable. \n",
      "From the song: friends, matching the emotion(anger)\n",
      "\n",
      "\n",
      "Lyric:   [jeo],      [gae]My sin is being a dog that bites its resting selfWordplay: He seems to have used the phonetic similarity between  (pronounced ge; a shortened form of , meaning [thing] is) and  (pronounced gae; dog). \n",
      "From the song: my-time, matching the emotion(anger)\n",
      "\n",
      "\n",
      "Lyric:   [jeo],      [gae]My sin is being a dog that bites its resting selfWordplay: He seems to have used the phonetic similarity between  (pronounced ge; a shortened form of , meaning [thing] is) and  (pronounced gae; dog). \n",
      "From the song: ugh, matching the emotion(anger)\n",
      "\n",
      "\n",
      "Lyric: I get outraged at the anger that had to be put down       \n",
      "From the song: %ec%a0%84%ed%95%98%ec%a7%80-%eb%aa%bb%ed%95%9c-%ec%a7%84%ec%8b%ac-the-truth-untold-ft-steve-aoki, matching the emotion(anger)\n",
      "\n",
      "\n",
      "Lyric: Im a king Im a boss   \n",
      "Everyone knows my name   \n",
      "These bastards who are all talk    \n",
      "Cut his head off immediately     \n",
      "Daechwita, Daechwita, hey, play it loud, Daechwita     \n",
      "Daechwita, Daechwita, hey, play it loud, Daechwita     \n",
      "Daechwita, Daechwita, hey, play it loud, Daechwita     \n",
      "Daechwita, Daechwita, hey, play it loud, Daechwita  \n",
      "Daechwita, Daechwita     \n",
      "Daechwita, Daechwita, hey, play it loud, Daechwita     \n",
      "Daechwita, Daechwita, hey, play it loud, Daechwita . \n",
      "From the song: %ec%a0%80-%eb%8b%ac-moonlight, matching the emotion(anger)\n",
      "\n",
      "\n"
     ]
    }
   ],
   "source": [
    "user_input_emotions = input(\"Enter emotions separated by commas: \").split(',')\n",
    "\n",
    "\n",
    "# Find matching quotes\n",
    "quotes = find_quotes(df_lyrics, user_input_emotions)\n",
    "\n",
    "# Print the results\n",
    "print(f\"Emotions you feel :{user_input_emotions[0]}\")\n",
    "print(\"\\nLyrics from BTS songs matching your feelings:\\n\")\n",
    "for lyric, song, emotion in quotes:\n",
    "    print(f\"Lyric: {lyric} \\nFrom the song: {song}, matching the emotion({emotion.strip()})\\n\\n\")"
   ]
  },
  {
   "cell_type": "code",
   "execution_count": null,
   "metadata": {},
   "outputs": [],
   "source": []
  }
 ],
 "metadata": {
  "kernelspec": {
   "display_name": "base",
   "language": "python",
   "name": "python3"
  },
  "language_info": {
   "codemirror_mode": {
    "name": "ipython",
    "version": 3
   },
   "file_extension": ".py",
   "mimetype": "text/x-python",
   "name": "python",
   "nbconvert_exporter": "python",
   "pygments_lexer": "ipython3",
   "version": "3.9.7"
  }
 },
 "nbformat": 4,
 "nbformat_minor": 2
}
